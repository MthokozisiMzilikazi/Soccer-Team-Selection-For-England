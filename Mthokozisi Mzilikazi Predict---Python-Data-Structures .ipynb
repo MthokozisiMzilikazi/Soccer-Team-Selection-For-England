{
 "cells": [
  {
   "cell_type": "code",
   "execution_count": 1,
   "metadata": {},
   "outputs": [
    {
     "name": "stderr",
     "output_type": "stream",
     "text": [
      "C:\\Users\\student-cpt-351\\AppData\\Local\\Continuum\\anaconda3\\lib\\site-packages\\IPython\\core\\interactiveshell.py:3049: DtypeWarning: Columns (14,26) have mixed types. Specify dtype option on import or set low_memory=False.\n",
      "  interactivity=interactivity, compiler=compiler, result=result)\n"
     ]
    },
    {
     "data": {
      "text/html": [
       "<div>\n",
       "<style scoped>\n",
       "    .dataframe tbody tr th:only-of-type {\n",
       "        vertical-align: middle;\n",
       "    }\n",
       "\n",
       "    .dataframe tbody tr th {\n",
       "        vertical-align: top;\n",
       "    }\n",
       "\n",
       "    .dataframe thead th {\n",
       "        text-align: right;\n",
       "    }\n",
       "</style>\n",
       "<table border=\"1\" class=\"dataframe\">\n",
       "  <thead>\n",
       "    <tr style=\"text-align: right;\">\n",
       "      <th></th>\n",
       "      <th>Age</th>\n",
       "      <th>Nationality</th>\n",
       "      <th>Overall</th>\n",
       "      <th>Acceleration</th>\n",
       "      <th>Aggression</th>\n",
       "      <th>Agility</th>\n",
       "      <th>Balance</th>\n",
       "      <th>Ball control</th>\n",
       "      <th>Composure</th>\n",
       "      <th>Crossing</th>\n",
       "      <th>...</th>\n",
       "      <th>Short passing</th>\n",
       "      <th>Shot power</th>\n",
       "      <th>Sliding tackle</th>\n",
       "      <th>Sprint speed</th>\n",
       "      <th>Stamina</th>\n",
       "      <th>Standing tackle</th>\n",
       "      <th>Strength</th>\n",
       "      <th>Vision</th>\n",
       "      <th>Volleys</th>\n",
       "      <th>Preferred Positions</th>\n",
       "    </tr>\n",
       "    <tr>\n",
       "      <th>Name</th>\n",
       "      <th></th>\n",
       "      <th></th>\n",
       "      <th></th>\n",
       "      <th></th>\n",
       "      <th></th>\n",
       "      <th></th>\n",
       "      <th></th>\n",
       "      <th></th>\n",
       "      <th></th>\n",
       "      <th></th>\n",
       "      <th></th>\n",
       "      <th></th>\n",
       "      <th></th>\n",
       "      <th></th>\n",
       "      <th></th>\n",
       "      <th></th>\n",
       "      <th></th>\n",
       "      <th></th>\n",
       "      <th></th>\n",
       "      <th></th>\n",
       "      <th></th>\n",
       "    </tr>\n",
       "  </thead>\n",
       "  <tbody>\n",
       "    <tr>\n",
       "      <th>M. Gulde</th>\n",
       "      <td>26</td>\n",
       "      <td>Germany</td>\n",
       "      <td>72</td>\n",
       "      <td>68</td>\n",
       "      <td>67</td>\n",
       "      <td>67</td>\n",
       "      <td>65</td>\n",
       "      <td>61</td>\n",
       "      <td>65</td>\n",
       "      <td>47</td>\n",
       "      <td>...</td>\n",
       "      <td>59</td>\n",
       "      <td>50</td>\n",
       "      <td>73</td>\n",
       "      <td>68</td>\n",
       "      <td>66</td>\n",
       "      <td>72</td>\n",
       "      <td>71</td>\n",
       "      <td>47</td>\n",
       "      <td>54</td>\n",
       "      <td>CB</td>\n",
       "    </tr>\n",
       "    <tr>\n",
       "      <th>J. Murphy</th>\n",
       "      <td>22</td>\n",
       "      <td>England</td>\n",
       "      <td>70</td>\n",
       "      <td>83</td>\n",
       "      <td>31</td>\n",
       "      <td>81</td>\n",
       "      <td>77</td>\n",
       "      <td>66</td>\n",
       "      <td>65</td>\n",
       "      <td>69</td>\n",
       "      <td>...</td>\n",
       "      <td>64</td>\n",
       "      <td>73</td>\n",
       "      <td>40</td>\n",
       "      <td>82</td>\n",
       "      <td>67</td>\n",
       "      <td>39</td>\n",
       "      <td>59</td>\n",
       "      <td>69</td>\n",
       "      <td>50</td>\n",
       "      <td>RM</td>\n",
       "    </tr>\n",
       "    <tr>\n",
       "      <th>L. Fasan</th>\n",
       "      <td>23</td>\n",
       "      <td>Italy</td>\n",
       "      <td>59</td>\n",
       "      <td>41</td>\n",
       "      <td>17</td>\n",
       "      <td>36</td>\n",
       "      <td>50</td>\n",
       "      <td>21</td>\n",
       "      <td>29</td>\n",
       "      <td>21</td>\n",
       "      <td>...</td>\n",
       "      <td>25</td>\n",
       "      <td>18</td>\n",
       "      <td>21</td>\n",
       "      <td>47</td>\n",
       "      <td>40</td>\n",
       "      <td>19</td>\n",
       "      <td>69</td>\n",
       "      <td>30</td>\n",
       "      <td>15</td>\n",
       "      <td>GK</td>\n",
       "    </tr>\n",
       "    <tr>\n",
       "      <th>A. Coeff</th>\n",
       "      <td>25</td>\n",
       "      <td>France</td>\n",
       "      <td>69</td>\n",
       "      <td>53</td>\n",
       "      <td>68</td>\n",
       "      <td>72</td>\n",
       "      <td>57</td>\n",
       "      <td>72</td>\n",
       "      <td>69</td>\n",
       "      <td>59</td>\n",
       "      <td>...</td>\n",
       "      <td>67</td>\n",
       "      <td>59</td>\n",
       "      <td>70</td>\n",
       "      <td>65</td>\n",
       "      <td>67</td>\n",
       "      <td>67</td>\n",
       "      <td>72</td>\n",
       "      <td>53</td>\n",
       "      <td>61</td>\n",
       "      <td>CM CB RB CDM</td>\n",
       "    </tr>\n",
       "    <tr>\n",
       "      <th>I. Zamora</th>\n",
       "      <td>21</td>\n",
       "      <td>Mexico</td>\n",
       "      <td>59</td>\n",
       "      <td>69</td>\n",
       "      <td>31</td>\n",
       "      <td>60</td>\n",
       "      <td>69</td>\n",
       "      <td>64</td>\n",
       "      <td>48</td>\n",
       "      <td>62</td>\n",
       "      <td>...</td>\n",
       "      <td>55</td>\n",
       "      <td>64</td>\n",
       "      <td>27</td>\n",
       "      <td>65</td>\n",
       "      <td>50</td>\n",
       "      <td>30</td>\n",
       "      <td>38</td>\n",
       "      <td>46</td>\n",
       "      <td>54</td>\n",
       "      <td>LM</td>\n",
       "    </tr>\n",
       "  </tbody>\n",
       "</table>\n",
       "<p>5 rows × 38 columns</p>\n",
       "</div>"
      ],
      "text/plain": [
       "           Age Nationality  Overall Acceleration Aggression Agility Balance  \\\n",
       "Name                                                                          \n",
       "M. Gulde    26     Germany       72       68         67      67      65       \n",
       "J. Murphy   22     England       70       83         31      81      77       \n",
       "L. Fasan    23       Italy       59       41         17      36      50       \n",
       "A. Coeff    25      France       69       53         68      72      57       \n",
       "I. Zamora   21      Mexico       59       69         31      60      69       \n",
       "\n",
       "          Ball control Composure Crossing  ... Short passing Shot power  \\\n",
       "Name                                       ...                            \n",
       "M. Gulde        61        65       47      ...        59         50       \n",
       "J. Murphy       66        65       69      ...        64         73       \n",
       "L. Fasan        21        29       21      ...        25         18       \n",
       "A. Coeff        72        69       59      ...        67         59       \n",
       "I. Zamora       64        48       62      ...        55         64       \n",
       "\n",
       "          Sliding tackle Sprint speed Stamina Standing tackle Strength  \\\n",
       "Name                                                                     \n",
       "M. Gulde          73           68      66              72       71       \n",
       "J. Murphy         40           82      67              39       59       \n",
       "L. Fasan          21           47      40              19       69       \n",
       "A. Coeff          70           65      67              67       72       \n",
       "I. Zamora         27           65      50              30       38       \n",
       "\n",
       "           Vision Volleys Preferred Positions  \n",
       "Name                                           \n",
       "M. Gulde   47      54                     CB   \n",
       "J. Murphy  69      50                     RM   \n",
       "L. Fasan   30      15                     GK   \n",
       "A. Coeff   53      61           CM CB RB CDM   \n",
       "I. Zamora  46      54                     LM   \n",
       "\n",
       "[5 rows x 38 columns]"
      ]
     },
     "execution_count": 1,
     "metadata": {},
     "output_type": "execute_result"
    }
   ],
   "source": [
    "import pandas as pd\n",
    "players = pd.read_csv(r'C:\\Users\\student-cpt-351\\Downloads\\football_players-a-25.csv',index_col='Name').sample(frac=1)\n",
    "df= pd.DataFrame(players)\n",
    "df.head()"
   ]
  },
  {
   "cell_type": "code",
   "execution_count": 2,
   "metadata": {},
   "outputs": [
    {
     "data": {
      "text/plain": [
       "Name\n",
       "M. Gulde           Back\n",
       "J. Murphy    Midfielder\n",
       "L. Fasan     GoalKeeper\n",
       "A. Coeff     Midfielder\n",
       "I. Zamora    Midfielder\n",
       "Name: Preferred Positions Type, dtype: object"
      ]
     },
     "execution_count": 2,
     "metadata": {},
     "output_type": "execute_result"
    }
   ],
   "source": [
    "def position_type(s):\n",
    "    \n",
    "    if (s[-2] == 'T') | (s[-2] == 'W'):\n",
    "        return 'Forward'\n",
    "    elif s[-2] == 'M':\n",
    "        return 'Midfielder'\n",
    "    elif s[-2] == 'B':\n",
    "        return 'Back'\n",
    "    else:\n",
    "        return 'GoalKeeper'\n",
    "    \n",
    "# Create column for preferred positon type\n",
    "df['Preferred Positions Type'] = df['Preferred Positions'].apply(position_type)\n",
    "df['Preferred Positions Type'].head()"
   ]
  },
  {
   "cell_type": "code",
   "execution_count": 3,
   "metadata": {},
   "outputs": [],
   "source": [
    "# Select all attribute columns\n",
    "cols = ['Overall', 'Acceleration', 'Aggression',\n",
    "       'Agility', 'Balance', 'Ball control', 'Composure', 'Crossing', 'Curve',\n",
    "       'Dribbling', 'Finishing', 'Free kick accuracy', 'GK diving',\n",
    "       'GK handling', 'GK kicking', 'GK positioning', 'GK reflexes',\n",
    "       'Heading accuracy', 'Interceptions', 'Jumping', 'Long passing',\n",
    "       'Long shots', 'Marking', 'Penalties', 'Positioning', 'Reactions',\n",
    "       'Short passing', 'Shot power', 'Sliding tackle', 'Sprint speed',\n",
    "       'Stamina', 'Standing tackle', 'Strength', 'Vision', 'Volleys']\n",
    "\n",
    "def to_float(x):    \n",
    "    \"Transforms attribute columns to type float\"\n",
    "    \n",
    "    if type(x) is int:\n",
    "        return float(x)\n",
    "    else:\n",
    "        return float(x[0:2])\n",
    "\n",
    "df[cols] = df[cols].applymap(to_float)"
   ]
  },
  {
   "cell_type": "code",
   "execution_count": 4,
   "metadata": {},
   "outputs": [],
   "source": [
    "#Function 1\n",
    "\n",
    "def best_defender_1(rank, max_age):\n",
    "     \n",
    "    df_Rank = df.loc[(df['Preferred Positions Type'] == 'Back') & (df['Age'] < max_age)].reset_index()\n",
    "    return df_Rank.sort_values(by=['Overall', 'Name'], ascending=False).iloc[rank-1]['Name']\n",
    "\n",
    "#End of Function 1"
   ]
  },
  {
   "cell_type": "code",
   "execution_count": 5,
   "metadata": {},
   "outputs": [
    {
     "data": {
      "text/plain": [
       "'T. Alderweireld'"
      ]
     },
     "execution_count": 5,
     "metadata": {},
     "output_type": "execute_result"
    }
   ],
   "source": [
    "best_defender_1(10, 35)"
   ]
  },
  {
   "cell_type": "code",
   "execution_count": 6,
   "metadata": {},
   "outputs": [],
   "source": [
    "#Function 2\n",
    "\n",
    "def best_defender_2(rank, max_age, max_aggression, min_stamina):\n",
    "    \n",
    "    df_Rank = df.loc[(df['Preferred Positions Type'] == 'Back') & (df['Age'] < max_age) & (df['Aggression'] < max_aggression) & (df['Stamina'] > min_stamina)].reset_index()\n",
    "    return df_Rank.sort_values(by=['Overall', 'Name'], ascending=False).iloc[rank-1]['Name']\n",
    "\n",
    "    raise NotImplementedError()\n",
    "\n",
    "### END FUNCTION 2"
   ]
  },
  {
   "cell_type": "code",
   "execution_count": 7,
   "metadata": {},
   "outputs": [
    {
     "data": {
      "text/plain": [
       "'K. Walker'"
      ]
     },
     "execution_count": 7,
     "metadata": {},
     "output_type": "execute_result"
    }
   ],
   "source": [
    "best_defender_2(10, 30, 80, 60)"
   ]
  },
  {
   "cell_type": "code",
   "execution_count": 8,
   "metadata": {},
   "outputs": [],
   "source": [
    "### START FUNCTION 3\n",
    "\n",
    "def best_defender_3(rank, max_age, team):\n",
    "    \n",
    "     \n",
    "    df_Rank = df.loc[(df['Preferred Positions Type'] == 'Back') & (df['Age'] < max_age) & (df['Nationality'] != team)].reset_index()\n",
    "    return df_Rank.sort_values(by=['Overall', 'Name'], ascending=False).iloc[rank-1]['Name']\n",
    "\n",
    "    raise NotImplementedError()\n",
    "\n",
    "### END FUNCTION 3"
   ]
  },
  {
   "cell_type": "code",
   "execution_count": 9,
   "metadata": {},
   "outputs": [
    {
     "data": {
      "text/plain": [
       "'A. Rüdiger'"
      ]
     },
     "execution_count": 9,
     "metadata": {},
     "output_type": "execute_result"
    }
   ],
   "source": [
    "best_defender_3(10, 25, 'Argentina')"
   ]
  },
  {
   "cell_type": "code",
   "execution_count": 10,
   "metadata": {},
   "outputs": [],
   "source": [
    "### START FUNCTION 4\n",
    "\n",
    "def best_attacker_1(rank, attribute_name, min_attribute_score):\n",
    "    \n",
    "    Fw_Rank = df.loc[(df['Preferred Positions Type'] == 'Forward') & (df[attribute_name] > min_attribute_score)].reset_index()\n",
    "    return Fw_Rank.sort_values(['Overall', 'Name'], ascending=False).iloc[rank-1]['Name']\n",
    "\n",
    "    raise NotImplementedError()\n",
    "\n",
    "### END FUNCTION 4"
   ]
  },
  {
   "cell_type": "code",
   "execution_count": 11,
   "metadata": {},
   "outputs": [
    {
     "data": {
      "text/plain": [
       "'P. Aubameyang'"
      ]
     },
     "execution_count": 11,
     "metadata": {},
     "output_type": "execute_result"
    }
   ],
   "source": [
    "best_attacker_1(10, 'Balance', 50)"
   ]
  },
  {
   "cell_type": "code",
   "execution_count": 12,
   "metadata": {},
   "outputs": [],
   "source": [
    "### START FUNCTION 5\n",
    "\n",
    "def best_attacker_2(rank, attribute_1_name, attribute_2_name, min_attributes_ave):\n",
    "    \n",
    "    Fw_Rank = df.loc[(df['Preferred Positions Type'] == 'Forward') & (((df[attribute_1_name] + df[attribute_2_name])/2) > min_attributes_ave)].reset_index()\n",
    "    return Fw_Rank.sort_values(['Overall', 'Name'], ascending=False).iloc[rank-1]['Name']\n",
    "\n",
    "    raise NotImplementedError()\n",
    "\n",
    "### END FUNCTION 5"
   ]
  },
  {
   "cell_type": "code",
   "execution_count": 13,
   "metadata": {},
   "outputs": [
    {
     "data": {
      "text/plain": [
       "'S. Mané'"
      ]
     },
     "execution_count": 13,
     "metadata": {},
     "output_type": "execute_result"
    }
   ],
   "source": [
    "best_attacker_2(10, 'Finishing', 'Balance', 80)"
   ]
  },
  {
   "cell_type": "code",
   "execution_count": 14,
   "metadata": {},
   "outputs": [],
   "source": [
    "### START FUNCTION 6\n",
    "\n",
    "def best_attacker_3(rank, attribute_1_name, attribute_2_name, min_attributes_min):\n",
    "    \n",
    "    Fw_Rank = df.loc[(df['Preferred Positions Type'] == 'Forward') & (df[[attribute_1_name ,attribute_2_name]].min(axis=1) > min_attributes_min)].reset_index()\n",
    "    return Fw_Rank.sort_values(['Overall', 'Name'], ascending=False).iloc[rank-1]['Name']\n",
    "\n",
    "    raise NotImplementedError()\n",
    "    \n",
    "### END FUNCTION 6"
   ]
  },
  {
   "cell_type": "code",
   "execution_count": 15,
   "metadata": {},
   "outputs": [
    {
     "data": {
      "text/plain": [
       "'A. Di María'"
      ]
     },
     "execution_count": 15,
     "metadata": {},
     "output_type": "execute_result"
    }
   ],
   "source": [
    "best_attacker_3(10, 'Balance', 'Composure', 70)"
   ]
  },
  {
   "cell_type": "code",
   "execution_count": 16,
   "metadata": {},
   "outputs": [],
   "source": [
    "### START FUNCTION 7\n",
    "\n",
    "def best_team_1(country, no_defenders, max_age):\n",
    "    \n",
    "    No_Back = df.loc[(df['Preferred Positions Type'] == 'Back') & (df['Age'] < max_age) & (df['Nationality'] == country)].reset_index()\n",
    "    return No_Back.sort_values(['Overall', 'Name'], ascending=False)['Name'].iloc[:no_defenders].tolist()\n",
    "\n",
    "    raise NotImplementedError()\n",
    "    \n",
    "### END FUNCTION 7"
   ]
  },
  {
   "cell_type": "code",
   "execution_count": 17,
   "metadata": {},
   "outputs": [
    {
     "data": {
      "text/plain": [
       "['K. Walker', 'N. Clyne', 'E. Dier']"
      ]
     },
     "execution_count": 17,
     "metadata": {},
     "output_type": "execute_result"
    }
   ],
   "source": [
    "best_team_1('England', 3, 30)"
   ]
  },
  {
   "cell_type": "code",
   "execution_count": 22,
   "metadata": {},
   "outputs": [],
   "source": [
    "### START FUNCTION 8\n",
    "\n",
    "def best_team_2(country, no_attackers, attribute_name, min_attribute_score):\n",
    "    \n",
    "    No_strikers = df.loc[(df['Preferred Positions Type'] == 'Forward') & (df[attribute_name] > min_attribute_score) & (df['Nationality'] == country)].reset_index()\n",
    "    return No_strikers.sort_values(['Overall', 'Name'], ascending=False)['Name'].iloc[:no_attackers].tolist()\n",
    "    \n",
    "    raise NotImplementedError()\n",
    "    \n",
    "### END FUNCTION 8"
   ]
  },
  {
   "cell_type": "code",
   "execution_count": 23,
   "metadata": {},
   "outputs": [
    {
     "data": {
      "text/plain": [
       "['H. Kane', 'R. Sterling', 'D. Sturridge']"
      ]
     },
     "execution_count": 23,
     "metadata": {},
     "output_type": "execute_result"
    }
   ],
   "source": [
    "best_team_2('England', 3, 'Finishing', 60)"
   ]
  },
  {
   "cell_type": "code",
   "execution_count": 30,
   "metadata": {},
   "outputs": [],
   "source": [
    "### START FUNCTION 9\n",
    "\n",
    "def best_team_3(country, no_attackers, no_defenders, no_midfielders, no_goalkeepers):\n",
    "    \n",
    "    TeamA = df.loc[(df['Preferred Positions Type'] == 'Forward') & (df['Nationality'] == country)].reset_index()\n",
    "    TeamD = df.loc[(df['Preferred Positions Type'] == 'Back') & (df['Nationality'] == country)].reset_index()\n",
    "    TeamM = df.loc[(df['Preferred Positions Type'] == 'Midfielder') & (df['Nationality'] == country)].reset_index()\n",
    "    TeamG = df.loc[(df['Preferred Positions Type'] == 'GoalKeeper') & (df['Nationality'] == country)].reset_index()\n",
    "    return [TeamA.sort_values(['Overall', 'Name'], ascending=False)['Name'].iloc[:no_attackers].tolist(),  \n",
    "    TeamM.sort_values(['Overall', 'Name'], ascending=False)['Name'].iloc[:no_midfielders].tolist(), \n",
    "    TeamD.sort_values(['Overall', 'Name'], ascending=False)['Name'].iloc[:no_defenders].tolist(), \n",
    "    TeamG.sort_values(['Overall', 'Name'], ascending=False)['Name'].iloc[:no_goalkeepers].tolist()]\n",
    "    \n",
    "    raise NotImplementedError()\n",
    "    \n",
    "### END FUNCTION 9"
   ]
  },
  {
   "cell_type": "code",
   "execution_count": 31,
   "metadata": {},
   "outputs": [
    {
     "data": {
      "text/plain": [
       "[['H. Kane', 'R. Sterling', 'D. Sturridge'],\n",
       " ['D. Alli', 'A. Lallana', 'J. Henderson'],\n",
       " ['G. Cahill', 'K. Walker', 'N. Clyne', 'L. Baines'],\n",
       " ['J. Hart']]"
      ]
     },
     "execution_count": 31,
     "metadata": {},
     "output_type": "execute_result"
    }
   ],
   "source": [
    "best_team_3('England', 3, 4, 3, 1)"
   ]
  }
 ],
 "metadata": {
  "kernelspec": {
   "display_name": "Python 3",
   "language": "python",
   "name": "python3"
  },
  "language_info": {
   "codemirror_mode": {
    "name": "ipython",
    "version": 3
   },
   "file_extension": ".py",
   "mimetype": "text/x-python",
   "name": "python",
   "nbconvert_exporter": "python",
   "pygments_lexer": "ipython3",
   "version": "3.7.5"
  }
 },
 "nbformat": 4,
 "nbformat_minor": 2
}
